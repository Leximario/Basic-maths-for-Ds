{
  "nbformat": 4,
  "nbformat_minor": 0,
  "metadata": {
    "colab": {
      "provenance": []
    },
    "kernelspec": {
      "name": "python3",
      "display_name": "Python 3"
    },
    "language_info": {
      "name": "python"
    }
  },
  "cells": [
    {
      "cell_type": "code",
      "execution_count": null,
      "metadata": {
        "colab": {
          "base_uri": "https://localhost:8080/"
        },
        "id": "t6ekXnk6GTSE",
        "outputId": "33e51786-f42b-4999-ff9f-5665f6166fa4"
      },
      "outputs": [
        {
          "output_type": "stream",
          "name": "stdout",
          "text": [
            "HEllo WorldHello\n",
            "Hello\n"
          ]
        }
      ],
      "source": [
        "v=input('HEllo World')\n",
        "print(v)"
      ]
    },
    {
      "cell_type": "code",
      "source": [
        "import numpy as np\n",
        "import statistics as st\n",
        "import pandas as pd\n"
      ],
      "metadata": {
        "id": "SN5eLLKRKBTr"
      },
      "execution_count": null,
      "outputs": []
    },
    {
      "cell_type": "code",
      "source": [
        "age = (20, 45, 14, 78)\n",
        "(np.mean(age))"
      ],
      "metadata": {
        "colab": {
          "base_uri": "https://localhost:8080/"
        },
        "id": "85ZODe9AMp44",
        "outputId": "d556cfe1-25c8-4a56-96f0-97e9429ab501"
      },
      "execution_count": null,
      "outputs": [
        {
          "output_type": "execute_result",
          "data": {
            "text/plain": [
              "39.25"
            ]
          },
          "metadata": {},
          "execution_count": 13
        }
      ]
    },
    {
      "cell_type": "code",
      "source": [
        "data = (12, 15, 21,21,18,19,25,30,30,28,29,40,12,18,25)\n",
        "mean_result = np.mean(data)\n",
        "mean_result\n"
      ],
      "metadata": {
        "colab": {
          "base_uri": "https://localhost:8080/"
        },
        "id": "ukertEIjPa1l",
        "outputId": "63426e38-da6b-45d7-89f1-36699e6552d0"
      },
      "execution_count": null,
      "outputs": [
        {
          "output_type": "execute_result",
          "data": {
            "text/plain": [
              "22.866666666666667"
            ]
          },
          "metadata": {},
          "execution_count": 15
        }
      ]
    },
    {
      "cell_type": "code",
      "source": [
        "median_result = np.median(data)\n",
        "median_result"
      ],
      "metadata": {
        "colab": {
          "base_uri": "https://localhost:8080/"
        },
        "id": "kneUPojfP4jP",
        "outputId": "9b3c69fc-cfcc-4915-ebab-59e57765f610"
      },
      "execution_count": null,
      "outputs": [
        {
          "output_type": "execute_result",
          "data": {
            "text/plain": [
              "21.0"
            ]
          },
          "metadata": {},
          "execution_count": 16
        }
      ]
    },
    {
      "cell_type": "code",
      "source": [
        "mode_result = st.mode(data)\n",
        "mode_result"
      ],
      "metadata": {
        "colab": {
          "base_uri": "https://localhost:8080/"
        },
        "id": "yXN9AhrWQEbb",
        "outputId": "1e27f5ce-0f6f-4063-89a3-237abc3bb686"
      },
      "execution_count": null,
      "outputs": [
        {
          "output_type": "execute_result",
          "data": {
            "text/plain": [
              "12"
            ]
          },
          "metadata": {},
          "execution_count": 17
        }
      ]
    },
    {
      "cell_type": "code",
      "source": [
        "std_result = st.stdev(data)\n",
        "std_result"
      ],
      "metadata": {
        "colab": {
          "base_uri": "https://localhost:8080/"
        },
        "id": "5arRuO1YTwR_",
        "outputId": "fb993764-4084-43ef-a966-e8b74024b3cd"
      },
      "execution_count": null,
      "outputs": [
        {
          "output_type": "execute_result",
          "data": {
            "text/plain": [
              "7.726269351714196"
            ]
          },
          "metadata": {},
          "execution_count": 18
        }
      ]
    },
    {
      "cell_type": "code",
      "source": [
        "variance_result = st.variance(data)\n",
        "variance_result"
      ],
      "metadata": {
        "colab": {
          "base_uri": "https://localhost:8080/"
        },
        "id": "nHiyK7sNT-23",
        "outputId": "d05578f9-baeb-4ed2-a626-2e3a5e8f077b"
      },
      "execution_count": null,
      "outputs": [
        {
          "output_type": "execute_result",
          "data": {
            "text/plain": [
              "59.695238095238096"
            ]
          },
          "metadata": {},
          "execution_count": 19
        }
      ]
    },
    {
      "cell_type": "code",
      "source": [
        "range_result = max(data) - min(data)\n",
        "range_result"
      ],
      "metadata": {
        "colab": {
          "base_uri": "https://localhost:8080/"
        },
        "id": "s0WVFY7OWQcL",
        "outputId": "6b2ef035-11dc-45cb-dbd3-90473fba87ea"
      },
      "execution_count": null,
      "outputs": [
        {
          "output_type": "execute_result",
          "data": {
            "text/plain": [
              "28"
            ]
          },
          "metadata": {},
          "execution_count": 20
        }
      ]
    },
    {
      "cell_type": "code",
      "source": [
        "data_percentile = np.percentile(data, 25)\n",
        "data_percentile"
      ],
      "metadata": {
        "colab": {
          "base_uri": "https://localhost:8080/"
        },
        "id": "ZF-D9ggKW6Q6",
        "outputId": "43c7369c-4ab6-4ee8-b0fc-6013ebd3512e"
      },
      "execution_count": null,
      "outputs": [
        {
          "output_type": "execute_result",
          "data": {
            "text/plain": [
              "18.0"
            ]
          },
          "metadata": {},
          "execution_count": 22
        }
      ]
    },
    {
      "cell_type": "code",
      "source": [
        "Data = [45, 67, 23, 67, 89, 34, 56, 67, 89, 12, 90, 45, 67, 34, 56, 78, 23, 45, 67, 89, 12]"
      ],
      "metadata": {
        "id": "hYYm8UaxXQjP"
      },
      "execution_count": null,
      "outputs": []
    },
    {
      "cell_type": "code",
      "source": [
        "var_result = np.var(Data)\n",
        "var_result"
      ],
      "metadata": {
        "colab": {
          "base_uri": "https://localhost:8080/"
        },
        "id": "Nsi0noOfXy5N",
        "outputId": "5724f6a0-d2ba-4fdd-ad01-d38329a199a9"
      },
      "execution_count": null,
      "outputs": [
        {
          "output_type": "execute_result",
          "data": {
            "text/plain": [
              "612.952380952381"
            ]
          },
          "metadata": {},
          "execution_count": 25
        }
      ]
    },
    {
      "cell_type": "code",
      "source": [
        "std_result2 = st.stdev(Data)\n",
        "std_result2"
      ],
      "metadata": {
        "colab": {
          "base_uri": "https://localhost:8080/"
        },
        "id": "e-Y-oaFvX5IT",
        "outputId": "daca40f8-05a9-4759-945e-2f890a525ca2"
      },
      "execution_count": null,
      "outputs": [
        {
          "output_type": "execute_result",
          "data": {
            "text/plain": [
              "25.369272752682527"
            ]
          },
          "metadata": {},
          "execution_count": 26
        }
      ]
    },
    {
      "cell_type": "code",
      "source": [
        "tenth_percentile = np.percentile(Data, 10)\n",
        "tenth_percentile"
      ],
      "metadata": {
        "colab": {
          "base_uri": "https://localhost:8080/"
        },
        "id": "e01ooW91YFWN",
        "outputId": "f7e0e4d8-a6e8-4673-a6bb-34d4eae71b9b"
      },
      "execution_count": null,
      "outputs": [
        {
          "output_type": "execute_result",
          "data": {
            "text/plain": [
              "23.0"
            ]
          },
          "metadata": {},
          "execution_count": 28
        }
      ]
    },
    {
      "cell_type": "code",
      "source": [
        "twentyfifth_percentile = np.percentile(Data, 25)\n",
        "twentyfifth_percentile"
      ],
      "metadata": {
        "colab": {
          "base_uri": "https://localhost:8080/"
        },
        "id": "l44xXt7MYPor",
        "outputId": "25c8cafe-bd41-4c08-fd16-4e9e9cc7e837"
      },
      "execution_count": null,
      "outputs": [
        {
          "output_type": "execute_result",
          "data": {
            "text/plain": [
              "34.0"
            ]
          },
          "metadata": {},
          "execution_count": 29
        }
      ]
    },
    {
      "cell_type": "code",
      "source": [
        "seventyfifth_percentile = np.percentile(Data, 75)\n",
        "seventyfifth_percentile"
      ],
      "metadata": {
        "colab": {
          "base_uri": "https://localhost:8080/"
        },
        "id": "_Dlh7DK_YUUu",
        "outputId": "ee7bd999-3c55-47d0-8284-40b1a2899538"
      },
      "execution_count": null,
      "outputs": [
        {
          "output_type": "execute_result",
          "data": {
            "text/plain": [
              "67.0"
            ]
          },
          "metadata": {},
          "execution_count": 30
        }
      ]
    },
    {
      "cell_type": "code",
      "source": [
        "fiftieth_percentile = np.percentile(Data, 50)\n",
        "fiftieth_percentile"
      ],
      "metadata": {
        "colab": {
          "base_uri": "https://localhost:8080/"
        },
        "id": "KS_y3LSEYW-4",
        "outputId": "2557fd9c-8232-4719-d807-1df7ec0fc281"
      },
      "execution_count": null,
      "outputs": [
        {
          "output_type": "execute_result",
          "data": {
            "text/plain": [
              "56.0"
            ]
          },
          "metadata": {},
          "execution_count": 31
        }
      ]
    },
    {
      "cell_type": "markdown",
      "source": [
        "with IQR(INTER QUARTILE RANGE, WE CAN DETECT OUTLIERS"
      ],
      "metadata": {
        "id": "-jrzW2mraXmB"
      }
    }
  ]
}